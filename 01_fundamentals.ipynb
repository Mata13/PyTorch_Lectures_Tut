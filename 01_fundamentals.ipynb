{
 "cells": [
  {
   "cell_type": "markdown",
   "id": "a7027c2c-e5cc-42bc-bb22-cf8e9e1cb5c1",
   "metadata": {},
   "source": [
    "<font color='LightSkyBlue'>\n",
    "<font size=6>\n",
    "        \n",
    "**Aprendiendo Pytorch**"
   ]
  },
  {
   "cell_type": "markdown",
   "id": "94e7bc74-bdbd-4080-9f87-9603894bc6ff",
   "metadata": {},
   "source": [
    "<font color = 'MediumVioletRed'>\n",
    "<font size = 5>\n",
    "INSTALACIÓN"
   ]
  },
  {
   "cell_type": "markdown",
   "id": "20ef930b-3906-4b62-a894-a52772d9990d",
   "metadata": {},
   "source": [
    "<font color = 'AntiqueWhite'>\n",
    "<font size = 3>\n",
    "Para instalar PyTorch en Manjaro, lo hacemos como se indica en la web oficial de <a href=https://pytorch.org//>PyTorch</a>. Teniendo en cuenta que ya estaba previamente instalado Anaconda."
   ]
  },
  {
   "cell_type": "code",
   "execution_count": 45,
   "id": "5e8da9b5-3d28-4762-9309-feebaad9dc5e",
   "metadata": {},
   "outputs": [
    {
     "name": "stdout",
     "output_type": "stream",
     "text": [
      "tensor([[0.9990, 0.5822, 0.5947],\n",
      "        [0.0278, 0.5292, 0.4575],\n",
      "        [0.4482, 0.4245, 0.3507],\n",
      "        [0.4277, 0.9356, 0.8514],\n",
      "        [0.6041, 0.8712, 0.7136]])\n"
     ]
    }
   ],
   "source": [
    "# Verificamos la instalación\n",
    "import torch\n",
    "x = torch.rand(5, 3)\n",
    "print(x)"
   ]
  },
  {
   "cell_type": "code",
   "execution_count": 46,
   "id": "8c31ddb4-f5e2-48f9-b8a0-8a88ff096cee",
   "metadata": {},
   "outputs": [
    {
     "data": {
      "text/plain": [
       "True"
      ]
     },
     "execution_count": 46,
     "metadata": {},
     "output_type": "execute_result"
    }
   ],
   "source": [
    "# Verificamos if GPU is enable and accessible by PyTorch\n",
    "torch.cuda.is_available()"
   ]
  },
  {
   "cell_type": "code",
   "execution_count": 47,
   "id": "a549cb93-fe8d-4033-8744-cb840df4a858",
   "metadata": {},
   "outputs": [
    {
     "name": "stdout",
     "output_type": "stream",
     "text": [
      "Package                   Version\n",
      "------------------------- --------------\n",
      "anyio                     4.6.2.post1\n",
      "argon2-cffi               23.1.0\n",
      "argon2-cffi-bindings      21.2.0\n",
      "arrow                     1.3.0\n",
      "asttokens                 2.4.1\n",
      "async-lru                 2.0.4\n",
      "attrs                     24.2.0\n",
      "babel                     2.16.0\n",
      "beautifulsoup4            4.12.3\n",
      "bleach                    6.2.0\n",
      "Brotli                    1.0.9\n",
      "certifi                   2024.8.30\n",
      "cffi                      1.17.1\n",
      "charset-normalizer        3.3.2\n",
      "comm                      0.2.2\n",
      "contourpy                 1.3.0\n",
      "cycler                    0.12.1\n",
      "debugpy                   1.8.8\n",
      "decorator                 5.1.1\n",
      "defusedxml                0.7.1\n",
      "exceptiongroup            1.2.2\n",
      "executing                 2.1.0\n",
      "fastjsonschema            2.20.0\n",
      "filelock                  3.13.1\n",
      "fonttools                 4.54.1\n",
      "fqdn                      1.5.1\n",
      "gmpy2                     2.1.2\n",
      "h11                       0.14.0\n",
      "httpcore                  1.0.6\n",
      "httpx                     0.27.2\n",
      "idna                      3.7\n",
      "ipykernel                 6.29.5\n",
      "ipython                   8.29.0\n",
      "isoduration               20.11.0\n",
      "jedi                      0.19.1\n",
      "Jinja2                    3.1.4\n",
      "joblib                    1.4.2\n",
      "json5                     0.9.25\n",
      "jsonpointer               3.0.0\n",
      "jsonschema                4.23.0\n",
      "jsonschema-specifications 2024.10.1\n",
      "jupyter_client            8.6.3\n",
      "jupyter_core              5.7.2\n",
      "jupyter-events            0.10.0\n",
      "jupyter-lsp               2.2.5\n",
      "jupyter_server            2.14.2\n",
      "jupyter_server_terminals  0.5.3\n",
      "jupyterlab                4.2.5\n",
      "jupyterlab_pygments       0.3.0\n",
      "jupyterlab_server         2.27.3\n",
      "kiwisolver                1.4.7\n",
      "MarkupSafe                2.1.3\n",
      "matplotlib                3.9.2\n",
      "matplotlib-inline         0.1.7\n",
      "mistune                   3.0.2\n",
      "mkl_fft                   1.3.11\n",
      "mkl_random                1.2.8\n",
      "mkl-service               2.4.0\n",
      "mpmath                    1.3.0\n",
      "nbclient                  0.10.0\n",
      "nbconvert                 7.16.4\n",
      "nbformat                  5.10.4\n",
      "nest-asyncio              1.6.0\n",
      "networkx                  3.2.1\n",
      "notebook                  7.2.2\n",
      "notebook_shim             0.2.4\n",
      "numpy                     2.0.1\n",
      "overrides                 7.7.0\n",
      "packaging                 24.2\n",
      "pandas                    2.2.3\n",
      "pandocfilters             1.5.1\n",
      "parso                     0.8.4\n",
      "pexpect                   4.9.0\n",
      "pillow                    10.4.0\n",
      "pip                       24.2\n",
      "platformdirs              4.3.6\n",
      "prometheus_client         0.21.0\n",
      "prompt_toolkit            3.0.48\n",
      "psutil                    6.1.0\n",
      "ptyprocess                0.7.0\n",
      "pure_eval                 0.2.3\n",
      "pycparser                 2.22\n",
      "Pygments                  2.18.0\n",
      "pyparsing                 3.2.0\n",
      "PySocks                   1.7.1\n",
      "python-dateutil           2.9.0.post0\n",
      "python-json-logger        2.0.7\n",
      "pytz                      2024.2\n",
      "PyYAML                    6.0.2\n",
      "pyzmq                     26.2.0\n",
      "referencing               0.35.1\n",
      "requests                  2.32.3\n",
      "rfc3339-validator         0.1.4\n",
      "rfc3986-validator         0.1.1\n",
      "rpds-py                   0.21.0\n",
      "scikit-learn              1.5.2\n",
      "scipy                     1.14.1\n",
      "Send2Trash                1.8.3\n",
      "setuptools                75.1.0\n",
      "six                       1.16.0\n",
      "sniffio                   1.3.1\n",
      "soupsieve                 2.6\n",
      "stack-data                0.6.3\n",
      "sympy                     1.13.2\n",
      "terminado                 0.18.1\n",
      "threadpoolctl             3.5.0\n",
      "tinycss2                  1.4.0\n",
      "tomli                     2.0.2\n",
      "torch                     2.5.1\n",
      "torchaudio                2.5.1\n",
      "torchvision               0.20.1\n",
      "tornado                   6.4.1\n",
      "traitlets                 5.14.3\n",
      "triton                    3.1.0\n",
      "types-python-dateutil     2.9.0.20241003\n",
      "typing_extensions         4.11.0\n",
      "tzdata                    2024.2\n",
      "uri-template              1.3.0\n",
      "urllib3                   2.2.3\n",
      "wcwidth                   0.2.13\n",
      "webcolors                 24.8.0\n",
      "webencodings              0.5.1\n",
      "websocket-client          1.8.0\n",
      "wheel                     0.44.0\n"
     ]
    }
   ],
   "source": [
    "# Se listan los paquetes instalados en el entorno virtual\n",
    "!pip list"
   ]
  },
  {
   "cell_type": "markdown",
   "id": "a03173aa-b47c-4690-a42c-f43c1f5231bb",
   "metadata": {},
   "source": [
    "<font color = 'Chartreuse'>\n",
    "<font size = 5>\n",
    "TENSORES"
   ]
  },
  {
   "cell_type": "markdown",
   "id": "c27d8d00-c22d-4d5e-89b9-9c7b9e694a6b",
   "metadata": {},
   "source": [
    "<font color = 'AntiqueWhite'>\n",
    "<font size = 3>\n",
    "    \n",
    "- Un torch.Tensor es una matriz multi-dimensional que contiene elementos de un solo tipo de dato.\n",
    "    \n",
    "- Por default data type of float32."
   ]
  },
  {
   "cell_type": "code",
   "execution_count": 48,
   "id": "af3fdfb9-c271-46a2-bf8c-ac7211d75b1d",
   "metadata": {},
   "outputs": [],
   "source": [
    "import numpy as np"
   ]
  },
  {
   "cell_type": "markdown",
   "id": "cbe89265-fee0-4d2a-a4bf-f51e421a7a2f",
   "metadata": {},
   "source": [
    "<font color = 'Tomato'>\n",
    "<font size = 5>\n",
    "LISTAS"
   ]
  },
  {
   "cell_type": "code",
   "execution_count": 49,
   "id": "38384239-2a57-4fed-b0d6-d505875a0704",
   "metadata": {},
   "outputs": [
    {
     "data": {
      "text/plain": [
       "[[1, 2, 3, 4, 5], [6, 7, 8, 9, 10]]"
      ]
     },
     "execution_count": 49,
     "metadata": {},
     "output_type": "execute_result"
    }
   ],
   "source": [
    "# Multi-dimentional array\n",
    "my_list = [[1,2,3,4,5], [6,7,8,9,10]]\n",
    "my_list"
   ]
  },
  {
   "cell_type": "markdown",
   "id": "bf6652ca-da17-44c7-8d25-4374def2fa6d",
   "metadata": {},
   "source": [
    "<font color = 'MediumSpringGreen'>\n",
    "<font size = 5>\n",
    "NUMPY ARRAYS"
   ]
  },
  {
   "cell_type": "code",
   "execution_count": 50,
   "id": "3574c7b3-c238-429e-a612-d0067b674adc",
   "metadata": {},
   "outputs": [
    {
     "data": {
      "text/plain": [
       "array([[0.21715081, 0.85155792, 0.20453059, 0.37448949],\n",
       "       [0.64291711, 0.37149902, 0.83386698, 0.4953125 ],\n",
       "       [0.44166718, 0.4411257 , 0.92747274, 0.38141533]])"
      ]
     },
     "execution_count": 50,
     "metadata": {},
     "output_type": "execute_result"
    }
   ],
   "source": [
    "# 3 Rows and 4 Columns\n",
    "np1 = np.random.rand(3,4)\n",
    "np1"
   ]
  },
  {
   "cell_type": "code",
   "execution_count": 51,
   "id": "c014cc66-b22b-4c01-836d-8f534f166ac1",
   "metadata": {},
   "outputs": [
    {
     "data": {
      "text/plain": [
       "dtype('float64')"
      ]
     },
     "execution_count": 51,
     "metadata": {},
     "output_type": "execute_result"
    }
   ],
   "source": [
    "# Verificamos el data type\n",
    "np1.dtype"
   ]
  },
  {
   "cell_type": "code",
   "execution_count": 52,
   "id": "49a89cee-58be-4ad2-9b79-13b5852a937b",
   "metadata": {},
   "outputs": [
    {
     "data": {
      "text/plain": [
       "tensor([[0.4714, 0.9037, 0.8147, 0.1893],\n",
       "        [0.4185, 0.4540, 0.9417, 0.3364],\n",
       "        [0.0097, 0.5982, 0.7791, 0.1222]])"
      ]
     },
     "execution_count": 52,
     "metadata": {},
     "output_type": "execute_result"
    }
   ],
   "source": [
    "# Creando tensores de 2D, 2 capas, 3 rows and 4 columns\n",
    "tensor_2d = torch.rand(3,4) # torch.rand() crea un tensor de números aleatorios entre 0 y 1\n",
    "tensor_2d"
   ]
  },
  {
   "cell_type": "code",
   "execution_count": 53,
   "id": "4f52a39e-2265-4b22-8b43-50d88bc6dd7e",
   "metadata": {},
   "outputs": [
    {
     "data": {
      "text/plain": [
       "tensor([[[0., 0., 0., 0.],\n",
       "         [0., 0., 0., 0.],\n",
       "         [0., 0., 0., 0.]],\n",
       "\n",
       "        [[0., 0., 0., 0.],\n",
       "         [0., 0., 0., 0.],\n",
       "         [0., 0., 0., 0.]]])"
      ]
     },
     "execution_count": 53,
     "metadata": {},
     "output_type": "execute_result"
    }
   ],
   "source": [
    "# Creando tensores de 3D, 3 rows and 4 columns\n",
    "tensor_3d = torch.zeros(2,3,4) \n",
    "tensor_3d"
   ]
  },
  {
   "cell_type": "code",
   "execution_count": 54,
   "id": "91f19ed1-7eca-4801-8ad1-bf4f79cafa91",
   "metadata": {},
   "outputs": [
    {
     "name": "stdout",
     "output_type": "stream",
     "text": [
      "torch.float32\n",
      "torch.float32\n"
     ]
    }
   ],
   "source": [
    "# Verificamos el data type\n",
    "print(tensor_2d.dtype)\n",
    "print(tensor_3d.dtype)"
   ]
  },
  {
   "cell_type": "code",
   "execution_count": 55,
   "id": "c50d9638-36e7-4355-af9d-4828911ff728",
   "metadata": {},
   "outputs": [
    {
     "data": {
      "text/plain": [
       "tensor([[0.2172, 0.8516, 0.2045, 0.3745],\n",
       "        [0.6429, 0.3715, 0.8339, 0.4953],\n",
       "        [0.4417, 0.4411, 0.9275, 0.3814]], dtype=torch.float64)"
      ]
     },
     "execution_count": 55,
     "metadata": {},
     "output_type": "execute_result"
    }
   ],
   "source": [
    "# Create tensor out numpy array\n",
    "my_tensor = torch.tensor(np1)\n",
    "my_tensor"
   ]
  },
  {
   "cell_type": "code",
   "execution_count": 56,
   "id": "93b76a5a-f196-4f80-91fd-d32262c72308",
   "metadata": {},
   "outputs": [
    {
     "data": {
      "text/plain": [
       "torch.float64"
      ]
     },
     "execution_count": 56,
     "metadata": {},
     "output_type": "execute_result"
    }
   ],
   "source": [
    "# Verificamos el data type\n",
    "my_tensor.dtype"
   ]
  },
  {
   "cell_type": "markdown",
   "id": "0958de28-7914-43c0-abf1-13eb7c9945fa",
   "metadata": {},
   "source": [
    "<font color = 'CornflowerBlue'>\n",
    "<font size = 5>\n",
    "TENSOR OPERATIONS"
   ]
  },
  {
   "cell_type": "code",
   "execution_count": 57,
   "id": "47df70cb-05fa-4427-8613-e439a4f24ff4",
   "metadata": {},
   "outputs": [
    {
     "name": "stdout",
     "output_type": "stream",
     "text": [
      "tensor([0, 1, 2, 3, 4, 5, 6, 7, 8, 9])\n",
      "torch.int64\n"
     ]
    }
   ],
   "source": [
    "my_torch = torch.arange(10) # crea un tensor 1D con una sucesión de números del 1 al 9\n",
    "print(my_torch)\n",
    "print(my_torch.dtype)"
   ]
  },
  {
   "cell_type": "code",
   "execution_count": 58,
   "id": "e2263de1-7639-4d53-afdd-84833a190a75",
   "metadata": {},
   "outputs": [
    {
     "data": {
      "text/plain": [
       "tensor([[0, 1, 2, 3, 4],\n",
       "        [5, 6, 7, 8, 9]])"
      ]
     },
     "execution_count": 58,
     "metadata": {},
     "output_type": "execute_result"
    }
   ],
   "source": [
    "# Reshape and View\n",
    "my_torch = my_torch.reshape(2,5) # this method change the shape of a tensor without changing its data\n",
    "my_torch # the new shape of 2 rows and 5 columns"
   ]
  },
  {
   "cell_type": "code",
   "execution_count": 59,
   "id": "d7176d26-57ae-4e0d-80db-d754a7557b31",
   "metadata": {},
   "outputs": [
    {
     "data": {
      "text/plain": [
       "tensor([0, 1, 2, 3, 4, 5, 6, 7, 8, 9])"
      ]
     },
     "execution_count": 59,
     "metadata": {},
     "output_type": "execute_result"
    }
   ],
   "source": [
    "# Reshape if we don't know the number of items using -1\n",
    "my_torch2 = torch.arange(10)\n",
    "my_torch2"
   ]
  },
  {
   "cell_type": "code",
   "execution_count": 60,
   "id": "f3263f78-c808-4fdb-a8ab-e620adca220b",
   "metadata": {},
   "outputs": [
    {
     "data": {
      "text/plain": [
       "tensor([[0, 1, 2, 3, 4],\n",
       "        [5, 6, 7, 8, 9]])"
      ]
     },
     "execution_count": 60,
     "metadata": {},
     "output_type": "execute_result"
    }
   ],
   "source": [
    "my_torch2 = my_torch2.reshape(-1,5)\n",
    "my_torch2"
   ]
  },
  {
   "cell_type": "code",
   "execution_count": 61,
   "id": "a6c1ea0a-024e-4e45-9d11-db3810cb3281",
   "metadata": {},
   "outputs": [
    {
     "data": {
      "text/plain": [
       "tensor([0, 1, 2, 3, 4, 5, 6, 7, 8, 9])"
      ]
     },
     "execution_count": 61,
     "metadata": {},
     "output_type": "execute_result"
    }
   ],
   "source": [
    "my_torch3 = torch.arange(10)\n",
    "my_torch3"
   ]
  },
  {
   "cell_type": "code",
   "execution_count": 62,
   "id": "78874242-888e-4b7e-96ab-2129160d3991",
   "metadata": {},
   "outputs": [
    {
     "data": {
      "text/plain": [
       "tensor([[0, 1, 2, 3, 4],\n",
       "        [5, 6, 7, 8, 9]])"
      ]
     },
     "execution_count": 62,
     "metadata": {},
     "output_type": "execute_result"
    }
   ],
   "source": [
    "my_torch4 = my_torch3.view(2,5)\n",
    "my_torch4"
   ]
  },
  {
   "cell_type": "markdown",
   "id": "c9b8c09a-2bbc-4d0a-8491-bc186e3c3423",
   "metadata": {},
   "source": [
    "<font color = 'MediumSlateBlue'>\n",
    "<font size = 3>\n",
    "Differences between shape and view in PyTorch, <a href=https://stackoverflow.com/questions/49643225/whats-the-difference-between-reshape-and-view-in-pytorch/>Click here</a>."
   ]
  },
  {
   "cell_type": "code",
   "execution_count": 63,
   "id": "fb5e9131-bcff-461c-b9b2-f20613ddb026",
   "metadata": {},
   "outputs": [
    {
     "data": {
      "text/plain": [
       "tensor([0, 1, 2, 3, 4, 5, 6, 7, 8, 9])"
      ]
     },
     "execution_count": 63,
     "metadata": {},
     "output_type": "execute_result"
    }
   ],
   "source": [
    "my_torch5 = torch.arange(10)\n",
    "my_torch5"
   ]
  },
  {
   "cell_type": "code",
   "execution_count": 64,
   "id": "8f7aaf52-87da-440e-8deb-0f6f12153deb",
   "metadata": {},
   "outputs": [
    {
     "data": {
      "text/plain": [
       "tensor([[0, 1, 2, 3, 4],\n",
       "        [5, 6, 7, 8, 9]])"
      ]
     },
     "execution_count": 64,
     "metadata": {},
     "output_type": "execute_result"
    }
   ],
   "source": [
    "my_torch6 = my_torch5.reshape(2,5)\n",
    "my_torch6"
   ]
  },
  {
   "cell_type": "code",
   "execution_count": 65,
   "id": "32f2e929-4e3f-4170-a2ec-719edf1b6c36",
   "metadata": {},
   "outputs": [
    {
     "data": {
      "text/plain": [
       "tensor([   0, 4141,    2,    3,    4,    5,    6,    7,    8,    9])"
      ]
     },
     "execution_count": 65,
     "metadata": {},
     "output_type": "execute_result"
    }
   ],
   "source": [
    "my_torch5[1] = 4141\n",
    "my_torch5"
   ]
  },
  {
   "cell_type": "code",
   "execution_count": 66,
   "id": "4bd9dc8d-4f4f-470c-be29-585b8f1d52d3",
   "metadata": {},
   "outputs": [
    {
     "data": {
      "text/plain": [
       "tensor([[   0, 4141,    2,    3,    4],\n",
       "        [   5,    6,    7,    8,    9]])"
      ]
     },
     "execution_count": 66,
     "metadata": {},
     "output_type": "execute_result"
    }
   ],
   "source": [
    "my_torch6"
   ]
  },
  {
   "cell_type": "markdown",
   "id": "43dc1e59-7451-47ee-9542-769afb32cb0b",
   "metadata": {},
   "source": [
    "<font color = 'Chocolate'>\n",
    "<font size = 3>\n",
    "Slices allow you to grab a section of your tensor."
   ]
  },
  {
   "cell_type": "code",
   "execution_count": 67,
   "id": "0813b981-25d1-4591-bb30-5aaced8ba105",
   "metadata": {},
   "outputs": [
    {
     "data": {
      "text/plain": [
       "tensor([0, 1, 2, 3, 4, 5, 6, 7, 8, 9])"
      ]
     },
     "execution_count": 67,
     "metadata": {},
     "output_type": "execute_result"
    }
   ],
   "source": [
    "my_torch7 = torch.arange(10) # crea un tensor unidimensional que contiene los numeros del 0 al 9. \n",
    "my_torch7"
   ]
  },
  {
   "cell_type": "code",
   "execution_count": 68,
   "id": "f6393274-e365-4b71-bb9e-e9d7c3a1aa2a",
   "metadata": {},
   "outputs": [
    {
     "data": {
      "text/plain": [
       "tensor(7)"
      ]
     },
     "execution_count": 68,
     "metadata": {},
     "output_type": "execute_result"
    }
   ],
   "source": [
    "# Grab a specific item\n",
    "my_torch7[7] # accede al elemento de la posicion 7 del tensor"
   ]
  },
  {
   "cell_type": "code",
   "execution_count": 69,
   "id": "39c5b86e-eb7d-47b1-b177-63a5598e7f1c",
   "metadata": {},
   "outputs": [
    {
     "name": "stdout",
     "output_type": "stream",
     "text": [
      "tensor(7)\n"
     ]
    }
   ],
   "source": [
    "print(my_torch7[7])"
   ]
  },
  {
   "cell_type": "code",
   "execution_count": 70,
   "id": "1f275378-1cb6-4321-a397-28325aaa2a51",
   "metadata": {},
   "outputs": [
    {
     "name": "stdout",
     "output_type": "stream",
     "text": [
      "tensor([0, 1, 2, 3, 4, 5, 6, 7, 8, 9])\n"
     ]
    }
   ],
   "source": [
    "print(my_torch7)"
   ]
  },
  {
   "cell_type": "code",
   "execution_count": 71,
   "id": "41b8389d-7e38-4ee8-9dc9-24b6d41f3c42",
   "metadata": {},
   "outputs": [
    {
     "data": {
      "text/plain": [
       "tensor([[0, 1],\n",
       "        [2, 3],\n",
       "        [4, 5],\n",
       "        [6, 7],\n",
       "        [8, 9]])"
      ]
     },
     "execution_count": 71,
     "metadata": {},
     "output_type": "execute_result"
    }
   ],
   "source": [
    "# Grab slice\n",
    "my_torch8 = my_torch7.reshape(5,2) # cambia la forma del tensor a una matriz de 5 filas y 2 columnas, se reorganiza\n",
    "my_torch8"
   ]
  },
  {
   "cell_type": "code",
   "execution_count": 72,
   "id": "aae9aa46-fffc-4f0e-b422-d2091f7a0687",
   "metadata": {},
   "outputs": [
    {
     "data": {
      "text/plain": [
       "tensor([1, 3, 5, 7, 9])"
      ]
     },
     "execution_count": 72,
     "metadata": {},
     "output_type": "execute_result"
    }
   ],
   "source": [
    "my_torch8[:,1] # extrae todos los elementos de la columna 1"
   ]
  },
  {
   "cell_type": "code",
   "execution_count": 73,
   "id": "a696289c-ba51-4394-87ec-01f7016df603",
   "metadata": {},
   "outputs": [
    {
     "data": {
      "text/plain": [
       "tensor([[1],\n",
       "        [3],\n",
       "        [5],\n",
       "        [7],\n",
       "        [9]])"
      ]
     },
     "execution_count": 73,
     "metadata": {},
     "output_type": "execute_result"
    }
   ],
   "source": [
    "# Return column\n",
    "my_torch8[:,1:]"
   ]
  },
  {
   "cell_type": "markdown",
   "id": "937df118-812b-4372-9514-1201ad06bcae",
   "metadata": {},
   "source": [
    "<font color = 'DeepSkyBlue'>\n",
    "<font size = 4>\n",
    "TENSOR MATH OPERATIONS\n",
    "    \n",
    "- Add, Subtract, Multiply, Divide, Remainders, Exponents.\n",
    "- Shorthand and uh, Longhand.\n",
    "- Reassignament"
   ]
  },
  {
   "cell_type": "code",
   "execution_count": 74,
   "id": "c5e8e525-7ad6-4f14-a24c-ac0f90a528ef",
   "metadata": {},
   "outputs": [],
   "source": [
    "tensor_a = torch.tensor([1,2,3,4])\n",
    "tensor_b = torch.tensor([5,6,7,8])"
   ]
  },
  {
   "cell_type": "code",
   "execution_count": 75,
   "id": "df084371-34b5-40dd-875c-2839dd2a84ae",
   "metadata": {},
   "outputs": [
    {
     "data": {
      "text/plain": [
       "tensor([ 6,  8, 10, 12])"
      ]
     },
     "execution_count": 75,
     "metadata": {},
     "output_type": "execute_result"
    }
   ],
   "source": [
    "# Addition\n",
    "tensor_a + tensor_b"
   ]
  },
  {
   "cell_type": "code",
   "execution_count": 76,
   "id": "69eb0150-be64-4e28-ade7-52bea480bad8",
   "metadata": {},
   "outputs": [
    {
     "data": {
      "text/plain": [
       "tensor([ 6,  8, 10, 12])"
      ]
     },
     "execution_count": 76,
     "metadata": {},
     "output_type": "execute_result"
    }
   ],
   "source": [
    "# Addition Longhand\n",
    "torch.add(tensor_a, tensor_b)"
   ]
  },
  {
   "cell_type": "code",
   "execution_count": 77,
   "id": "552148f7-3c5a-4d3e-981b-84b17b336e7a",
   "metadata": {},
   "outputs": [
    {
     "data": {
      "text/plain": [
       "tensor([4, 4, 4, 4])"
      ]
     },
     "execution_count": 77,
     "metadata": {},
     "output_type": "execute_result"
    }
   ],
   "source": [
    "# Subtraction \n",
    "tensor_b - tensor_a"
   ]
  },
  {
   "cell_type": "code",
   "execution_count": 78,
   "id": "c67c6584-4961-4901-8490-e794a606d000",
   "metadata": {},
   "outputs": [
    {
     "data": {
      "text/plain": [
       "tensor([4, 4, 4, 4])"
      ]
     },
     "execution_count": 78,
     "metadata": {},
     "output_type": "execute_result"
    }
   ],
   "source": [
    "# Sub Function \n",
    "torch.sub(tensor_b, tensor_a)"
   ]
  },
  {
   "cell_type": "code",
   "execution_count": 79,
   "id": "88335393-2b2f-42b8-b3f9-b2d1099671ef",
   "metadata": {},
   "outputs": [
    {
     "data": {
      "text/plain": [
       "tensor([ 5, 12, 21, 32])"
      ]
     },
     "execution_count": 79,
     "metadata": {},
     "output_type": "execute_result"
    }
   ],
   "source": [
    "# Miltiplication\n",
    "tensor_a * tensor_b"
   ]
  },
  {
   "cell_type": "code",
   "execution_count": 80,
   "id": "e2a68cdc-babd-401c-b763-1f7095915f23",
   "metadata": {},
   "outputs": [
    {
     "data": {
      "text/plain": [
       "tensor([ 5, 12, 21, 32])"
      ]
     },
     "execution_count": 80,
     "metadata": {},
     "output_type": "execute_result"
    }
   ],
   "source": [
    "# Mul longhand\n",
    "torch.mul(tensor_a, tensor_b)"
   ]
  },
  {
   "cell_type": "code",
   "execution_count": 81,
   "id": "194b8992-5511-410d-a0a3-90d96ae03c7f",
   "metadata": {},
   "outputs": [
    {
     "data": {
      "text/plain": [
       "tensor([5.0000, 3.0000, 2.3333, 2.0000])"
      ]
     },
     "execution_count": 81,
     "metadata": {},
     "output_type": "execute_result"
    }
   ],
   "source": [
    "# Division\n",
    "tensor_b / tensor_a"
   ]
  },
  {
   "cell_type": "code",
   "execution_count": 82,
   "id": "e3ef447d-7ad9-4bf5-92cc-3438080e775e",
   "metadata": {},
   "outputs": [
    {
     "data": {
      "text/plain": [
       "tensor([5.0000, 3.0000, 2.3333, 2.0000])"
      ]
     },
     "execution_count": 82,
     "metadata": {},
     "output_type": "execute_result"
    }
   ],
   "source": [
    "# Div Longhand\n",
    "torch.div(tensor_b, tensor_a)"
   ]
  },
  {
   "cell_type": "code",
   "execution_count": 83,
   "id": "aac9d142-e418-476d-b88d-d8519fb232fc",
   "metadata": {},
   "outputs": [
    {
     "data": {
      "text/plain": [
       "tensor([0, 0, 1, 0])"
      ]
     },
     "execution_count": 83,
     "metadata": {},
     "output_type": "execute_result"
    }
   ],
   "source": [
    "# Reminder Modulus\n",
    "tensor_b % tensor_a"
   ]
  },
  {
   "cell_type": "code",
   "execution_count": 84,
   "id": "a3d45b1f-8341-4483-9eb7-f5c9476b9f76",
   "metadata": {},
   "outputs": [
    {
     "data": {
      "text/plain": [
       "tensor([0, 0, 1, 0])"
      ]
     },
     "execution_count": 84,
     "metadata": {},
     "output_type": "execute_result"
    }
   ],
   "source": [
    "# Reminder Longhand\n",
    "torch.remainder(tensor_b, tensor_a)"
   ]
  },
  {
   "cell_type": "code",
   "execution_count": 85,
   "id": "c5e40cd1-c5f2-4380-84fa-1628563aa8f8",
   "metadata": {},
   "outputs": [
    {
     "data": {
      "text/plain": [
       "tensor([    1,    64,  2187, 65536])"
      ]
     },
     "execution_count": 85,
     "metadata": {},
     "output_type": "execute_result"
    }
   ],
   "source": [
    "# Exponents / power\n",
    "torch.pow(tensor_a, tensor_b)"
   ]
  },
  {
   "cell_type": "code",
   "execution_count": 86,
   "id": "6c2078fb-ce96-4bb8-abc8-a5b0c3dc1dce",
   "metadata": {},
   "outputs": [
    {
     "data": {
      "text/plain": [
       "tensor([ 6,  8, 10, 12])"
      ]
     },
     "execution_count": 86,
     "metadata": {},
     "output_type": "execute_result"
    }
   ],
   "source": [
    "# Another way to write longhand\n",
    "tensor_a.add(tensor_b)"
   ]
  },
  {
   "cell_type": "code",
   "execution_count": 87,
   "id": "41edc7fa-8030-4757-a4c4-257a5100c898",
   "metadata": {},
   "outputs": [
    {
     "data": {
      "text/plain": [
       "tensor([ 6,  8, 10, 12])"
      ]
     },
     "execution_count": 87,
     "metadata": {},
     "output_type": "execute_result"
    }
   ],
   "source": [
    "# Reassignment\n",
    "tensor_a + tensor_b"
   ]
  }
 ],
 "metadata": {
  "kernelspec": {
   "display_name": "Python 3 (ipykernel)",
   "language": "python",
   "name": "python3"
  },
  "language_info": {
   "codemirror_mode": {
    "name": "ipython",
    "version": 3
   },
   "file_extension": ".py",
   "mimetype": "text/x-python",
   "name": "python",
   "nbconvert_exporter": "python",
   "pygments_lexer": "ipython3",
   "version": "3.10.15"
  }
 },
 "nbformat": 4,
 "nbformat_minor": 5
}
